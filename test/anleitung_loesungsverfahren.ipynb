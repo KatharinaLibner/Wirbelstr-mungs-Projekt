{
 "cells": [
  {
   "cell_type": "markdown",
   "id": "4fbb5baf",
   "metadata": {},
   "source": [
    "# Poisson Gleichung\n",
    "- Dirichlet -Randbedingung\n",
    "- Konti Gleichung \n",
    "Erzeugt den Boolschen Vektor $$B \\begin{cases} =0  \\text{alles im Inneren}\\\\ =1 \\text{auf dem Rand}\\end{cases}$$\n",
    "- Stromfunktion $\\Psi$ \n",
    "$$\\bigg( I(-B) \\cdot (\\frac{\\partial^2}{\\partial x^2}+ \\frac{\\partial^2}{\\partial y^2}+ I(B)\\bigg )\\cdot \\Phi = \\vec{-B} \\times (-\\omega) + \\vec{B} \\times \\Psi_\\Gamma$$"
   ]
  },
  {
   "cell_type": "markdown",
   "id": "4f7a6f87",
   "metadata": {},
   "source": [
    "# Randbedingungen ß. Ableitungsordnung ( Dirichlet - Randbedingung)\n",
    "- senkrechte Geschwindigkeit wirkt auf den Rand\n",
    "- orthogonaler Volumenstrom = $udy - cdx = d \\dot V_x - \\dot V_y$\n",
    "- Kontinuitätsgleichung $$0 = \\oint_{\\Gamma_\\Sigma} d (\\dot V_x - \\dot V_y) d$$"
   ]
  },
  {
   "cell_type": "code",
   "execution_count": null,
   "id": "75ba3c50",
   "metadata": {},
   "outputs": [],
   "source": []
  }
 ],
 "metadata": {
  "language_info": {
   "name": "python"
  }
 },
 "nbformat": 4,
 "nbformat_minor": 5
}
